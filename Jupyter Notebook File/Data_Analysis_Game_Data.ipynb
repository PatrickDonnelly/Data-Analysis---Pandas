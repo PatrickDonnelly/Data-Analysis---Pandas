{
 "cells": [
  {
   "cell_type": "code",
   "execution_count": null,
   "metadata": {},
   "outputs": [],
   "source": [
    "# Dictionary: key/value pairs inside curly braces.  \n",
    "\n",
    "metric = {\n",
    "    \"version\" : \"alpha\",\n",
    "    \"value\" : 10,\n",
    "}\n"
   ]
  },
  {
   "cell_type": "code",
   "execution_count": null,
   "metadata": {},
   "outputs": [],
   "source": [
    "metric[\"value\"]"
   ]
  },
  {
   "cell_type": "code",
   "execution_count": null,
   "metadata": {},
   "outputs": [],
   "source": [
    "type(metric[\"value\"])"
   ]
  },
  {
   "cell_type": "code",
   "execution_count": null,
   "metadata": {},
   "outputs": [],
   "source": [
    "import json"
   ]
  },
  {
   "cell_type": "code",
   "execution_count": null,
   "metadata": {
    "scrolled": true
   },
   "outputs": [],
   "source": [
    "json.dumps(metric)  # this is the \n",
    "                    # json equivalent of the python data"
   ]
  },
  {
   "cell_type": "code",
   "execution_count": null,
   "metadata": {},
   "outputs": [],
   "source": [
    "type(json.dumps(metric))"
   ]
  },
  {
   "cell_type": "code",
   "execution_count": null,
   "metadata": {},
   "outputs": [],
   "source": [
    "data = json.dumps(metric)"
   ]
  },
  {
   "cell_type": "code",
   "execution_count": null,
   "metadata": {},
   "outputs": [],
   "source": [
    "data "
   ]
  },
  {
   "cell_type": "code",
   "execution_count": null,
   "metadata": {},
   "outputs": [],
   "source": [
    "# we can send json data through the web from client -> server"
   ]
  },
  {
   "cell_type": "code",
   "execution_count": null,
   "metadata": {},
   "outputs": [],
   "source": [
    "json.loads(data)"
   ]
  },
  {
   "cell_type": "code",
   "execution_count": null,
   "metadata": {},
   "outputs": [],
   "source": [
    "type(json.loads(data)) "
   ]
  },
  {
   "cell_type": "code",
   "execution_count": null,
   "metadata": {},
   "outputs": [],
   "source": [
    "data2 = json.loads(data)"
   ]
  },
  {
   "cell_type": "code",
   "execution_count": null,
   "metadata": {},
   "outputs": [],
   "source": [
    "data2[\"value\"]"
   ]
  },
  {
   "cell_type": "code",
   "execution_count": null,
   "metadata": {},
   "outputs": [],
   "source": [
    "type(data2[\"value\"]) # value is an int, yes"
   ]
  },
  {
   "cell_type": "code",
   "execution_count": null,
   "metadata": {},
   "outputs": [],
   "source": [
    "metric"
   ]
  },
  {
   "cell_type": "code",
   "execution_count": null,
   "metadata": {},
   "outputs": [],
   "source": [
    "# the next bit of code sends the python \n",
    "# data to the server (as json)\n",
    "\n",
    "# This was for test purposes. I excluded it as i only want relevant\n",
    "# data related to actual play tests.\n",
    "\n",
    "# So i do not want to send random values that will skew the data"
   ]
  },
  {
   "cell_type": "code",
   "execution_count": null,
   "metadata": {},
   "outputs": [],
   "source": [
    "# metric = {'version' : 3, 'timestamp' : 'wednesday', 'user_id' : 111, 'event_name' : 'Jupyter test succes?', 'data' : 0, 'coins' : 321, 'score' : 654, 'time_taken' : 11}"
   ]
  },
  {
   "cell_type": "code",
   "execution_count": null,
   "metadata": {},
   "outputs": [],
   "source": [
    "# URL = \"https://patrick-ethan-metrics-copy.anvil.app/_/api/metric\" #our server"
   ]
  },
  {
   "cell_type": "code",
   "execution_count": null,
   "metadata": {},
   "outputs": [],
   "source": [
    "import requests"
   ]
  },
  {
   "cell_type": "code",
   "execution_count": null,
   "metadata": {},
   "outputs": [],
   "source": [
    "# res = requests.post(URL, json=metric)   # Send the data as JSON to the server."
   ]
  },
  {
   "cell_type": "code",
   "execution_count": null,
   "metadata": {},
   "outputs": [],
   "source": [
    "# res.status_code"
   ]
  },
  {
   "cell_type": "code",
   "execution_count": null,
   "metadata": {},
   "outputs": [],
   "source": [
    "# res.json()"
   ]
  },
  {
   "cell_type": "code",
   "execution_count": null,
   "metadata": {},
   "outputs": [],
   "source": [
    "#so we've sent data in. now we want to get the data back from the server withowut having to use a browser"
   ]
  },
  {
   "cell_type": "code",
   "execution_count": null,
   "metadata": {},
   "outputs": [],
   "source": [
    "URL = \"https://patrick-ethan-metrics-copy.anvil.app/_/api/metrics\""
   ]
  },
  {
   "cell_type": "code",
   "execution_count": null,
   "metadata": {},
   "outputs": [],
   "source": [
    "data = requests.get(URL)"
   ]
  },
  {
   "cell_type": "code",
   "execution_count": null,
   "metadata": {},
   "outputs": [],
   "source": [
    "data.status_code"
   ]
  },
  {
   "cell_type": "code",
   "execution_count": null,
   "metadata": {},
   "outputs": [],
   "source": [
    "data.json()"
   ]
  },
  {
   "cell_type": "code",
   "execution_count": null,
   "metadata": {},
   "outputs": [],
   "source": [
    "for row in data.json():\n",
    "    print(row)"
   ]
  },
  {
   "cell_type": "code",
   "execution_count": null,
   "metadata": {},
   "outputs": [],
   "source": [
    "row"
   ]
  },
  {
   "cell_type": "code",
   "execution_count": null,
   "metadata": {},
   "outputs": [],
   "source": [
    "row[-1]"
   ]
  },
  {
   "cell_type": "code",
   "execution_count": null,
   "metadata": {},
   "outputs": [],
   "source": [
    "type(row[-1])"
   ]
  },
  {
   "cell_type": "code",
   "execution_count": null,
   "metadata": {},
   "outputs": [],
   "source": [
    "# I removed fake test data from our data table for accurate analysis\n",
    "# of real play tests so our data table is shorter than last time because of this."
   ]
  },
  {
   "cell_type": "code",
   "execution_count": null,
   "metadata": {},
   "outputs": [],
   "source": [
    "import pandas as pd # allows us to use pandas"
   ]
  },
  {
   "cell_type": "code",
   "execution_count": null,
   "metadata": {},
   "outputs": [],
   "source": [
    "# The following converts our data into a pandas dataframe, you\n",
    "# have to specify the number of columns correctly or it throws an error"
   ]
  },
  {
   "cell_type": "code",
   "execution_count": null,
   "metadata": {},
   "outputs": [],
   "source": [
    "df = pd.DataFrame(data.json(), columns=[\"version\",\"timestamp\",\"user_id\",\"event_name\",\n",
    "                                       \"data\",\"coins\",\"score\",\"time_taken\"])"
   ]
  },
  {
   "cell_type": "code",
   "execution_count": null,
   "metadata": {},
   "outputs": [],
   "source": [
    "type(df) # check it was successful"
   ]
  },
  {
   "cell_type": "code",
   "execution_count": null,
   "metadata": {},
   "outputs": [],
   "source": [
    "type(data.json())"
   ]
  },
  {
   "cell_type": "code",
   "execution_count": null,
   "metadata": {},
   "outputs": [],
   "source": [
    "df # prints the dataframe"
   ]
  },
  {
   "cell_type": "code",
   "execution_count": null,
   "metadata": {},
   "outputs": [],
   "source": [
    "df.head(5) # shows the specified number of entries from \n",
    "            # the start of the dataframe"
   ]
  },
  {
   "cell_type": "code",
   "execution_count": null,
   "metadata": {},
   "outputs": [],
   "source": [
    "df.tail(5)  # shows the specified number of entries from \n",
    "            # the end of the dataframe"
   ]
  },
  {
   "cell_type": "code",
   "execution_count": null,
   "metadata": {},
   "outputs": [],
   "source": [
    "df.describe() # Pulls up stats based on numerical entries"
   ]
  },
  {
   "cell_type": "code",
   "execution_count": null,
   "metadata": {},
   "outputs": [],
   "source": [
    "df[\"score\"] # creates a dataframe for data related exclusively\n",
    "            # to a player's score"
   ]
  },
  {
   "cell_type": "code",
   "execution_count": null,
   "metadata": {},
   "outputs": [],
   "source": [
    "df[\"coins\"] # creates a dataframe for data related exclusively\n",
    "            # to the coins collected by the player"
   ]
  },
  {
   "cell_type": "code",
   "execution_count": null,
   "metadata": {},
   "outputs": [],
   "source": [
    "df[\"time_taken\"] # creates a dataframe for data related exclusively\n",
    "                 # to the time a player took to complete the level"
   ]
  },
  {
   "cell_type": "code",
   "execution_count": null,
   "metadata": {},
   "outputs": [],
   "source": [
    "coins = df[\"coins\"] # sets coins = to the dataframe"
   ]
  },
  {
   "cell_type": "code",
   "execution_count": null,
   "metadata": {},
   "outputs": [],
   "source": [
    "len(df) # number of entries in the original dataframe"
   ]
  },
  {
   "cell_type": "code",
   "execution_count": null,
   "metadata": {},
   "outputs": [],
   "source": [
    "df.shape # 11 rows, 8 columns"
   ]
  },
  {
   "cell_type": "code",
   "execution_count": null,
   "metadata": {},
   "outputs": [],
   "source": [
    "len(coins) # number of entries in the coins dataframe"
   ]
  },
  {
   "cell_type": "code",
   "execution_count": null,
   "metadata": {},
   "outputs": [],
   "source": [
    "coins.shape # 11 rows"
   ]
  },
  {
   "cell_type": "code",
   "execution_count": null,
   "metadata": {},
   "outputs": [],
   "source": [
    "coins # prints the dataframe / table for coins data"
   ]
  },
  {
   "cell_type": "code",
   "execution_count": null,
   "metadata": {},
   "outputs": [],
   "source": [
    "coins.describe() # prints out numerical stats for coins data, mean amount of coins, max coins etc."
   ]
  },
  {
   "cell_type": "code",
   "execution_count": null,
   "metadata": {},
   "outputs": [],
   "source": [
    "score = df[\"score\"] # sets score = to the dataframe \"score\""
   ]
  },
  {
   "cell_type": "code",
   "execution_count": null,
   "metadata": {},
   "outputs": [],
   "source": [
    "score # prints the dataframe for data related to a player's score"
   ]
  },
  {
   "cell_type": "code",
   "execution_count": null,
   "metadata": {},
   "outputs": [],
   "source": [
    "score.describe() # numerical stats related to score"
   ]
  },
  {
   "cell_type": "code",
   "execution_count": null,
   "metadata": {},
   "outputs": [],
   "source": [
    "time_taken = df[\"time_taken\"]  # sets time_taken = to the dataframe \"time_taken\""
   ]
  },
  {
   "cell_type": "code",
   "execution_count": null,
   "metadata": {},
   "outputs": [],
   "source": [
    "time_taken # prints time_taken dataframe/table"
   ]
  },
  {
   "cell_type": "code",
   "execution_count": null,
   "metadata": {},
   "outputs": [],
   "source": [
    "time_taken.describe() # numerical stats for time_taken table"
   ]
  },
  {
   "cell_type": "code",
   "execution_count": null,
   "metadata": {},
   "outputs": [],
   "source": [
    "# ----------------------------------------------------------------"
   ]
  },
  {
   "cell_type": "code",
   "execution_count": null,
   "metadata": {},
   "outputs": [],
   "source": [
    "# Coins gathered data Analysis:\n",
    "\n",
    "# The graph shows that most players did not gather coins on our level.\n",
    "# Those that did collected a moderate to high amount.\n",
    "# This could indicate that players were unaware that they\n",
    "# could collect coins hidden in the platform boxes.\n",
    "# I think that could be a possible scenario as half of those\n",
    "# that collected coins went onto collect a high amount,meaning they \n",
    "# searched them out once they were aware they existed.\n",
    "# Another possible scenario was that players didn't feel an \n",
    "# incentive to collect coins but i feel like the first conclusion\n",
    "# is more likely as most players didnt even collect a single coin to\n",
    "# see if the incentive was worth it.\n",
    "# Maybe we could make the coins more visible to encourage collection?\n",
    "# then reassess the data to see if more players seek out coins."
   ]
  },
  {
   "cell_type": "code",
   "execution_count": null,
   "metadata": {},
   "outputs": [],
   "source": [
    "for v in coins:\n",
    "    print(v, end=' ') # prints all coin data horizontally"
   ]
  },
  {
   "cell_type": "code",
   "execution_count": null,
   "metadata": {},
   "outputs": [],
   "source": [
    "coins.plot(); # plots a line graph based on data from the \n",
    "              # coins dataframe"
   ]
  },
  {
   "cell_type": "code",
   "execution_count": null,
   "metadata": {},
   "outputs": [],
   "source": [
    "# ----------------------------------------------------------------"
   ]
  },
  {
   "cell_type": "code",
   "execution_count": null,
   "metadata": {},
   "outputs": [],
   "source": [
    "# Score data analysis :\n",
    "\n",
    "# The graph indicates that almost half of our players did not score at all while half of the players that did score\n",
    "# scored highly the other half scored quite low.\n",
    "# To me this is quite unusual for a number of reasons.\n",
    "# To score nothing may indicate a bug as all players that reach the end goal \n",
    "# should receive points based on where they landed on the goal pole.\n",
    "# Meaning a score of zero for completing our level should not be possible.\n",
    "# As indicated from the time taken data every player cleared the level,\n",
    "# meaning that the score of zero should not be possible.\n",
    "\n",
    "# I think a couple of scenarios need to be examined. \n",
    "# I think the data code needs to be checked to see if the code\n",
    "# is still sending time_taken to the server even when the player dies.\n",
    "# if the player dies this time should be left blank or put in a seperate column like\n",
    "# time_taken_level_failed for more accurate analysis.\n",
    "# Secondly this could indicate that our players did clear the level but \n",
    "# were not allocated extra points from reaching the goal pole, meaning\n",
    "# if they had a score of zero as they reached the pole that it would remain the same.\n",
    "# That would be a bug so it needs to be examined further.\n",
    "# Another possible avenue we should explore is tracking data\n",
    "# for player deaths and number of game overs, that way we would get a clearer\n",
    "# picture as to why a player scored zero and possibly understand if\n",
    "# time taken is still being sent even when a player gets game over and does not complete the level.\n",
    "\n",
    "# There also seems to be a direct correalation between those that scored highly\n",
    "# and those that collected a lot of coins."
   ]
  },
  {
   "cell_type": "code",
   "execution_count": null,
   "metadata": {},
   "outputs": [],
   "source": [
    "for v in score:\n",
    "    print(v, end=' ') # prints all score data horizontally"
   ]
  },
  {
   "cell_type": "code",
   "execution_count": null,
   "metadata": {},
   "outputs": [],
   "source": [
    "score.plot(); # plots a line graph based on data from the \n",
    "              # score dataframe"
   ]
  },
  {
   "cell_type": "code",
   "execution_count": null,
   "metadata": {},
   "outputs": [],
   "source": [
    "# ----------------------------------------------------------------"
   ]
  },
  {
   "cell_type": "code",
   "execution_count": null,
   "metadata": {},
   "outputs": [],
   "source": [
    "# Time Taken to complete a level data Analysis :\n",
    "\n",
    "# The graph indicates that all players logged a completion time \n",
    "# for the level. As we discussed above that may not be the case.\n",
    "# Taking the data at face value every player completed the level.\n",
    "# Most players completed the level in a very short space of time.\n",
    "# That indicates one of two scenarios (or both).\n",
    "# firstly Our level is too short and does not encourage player exploration meaning players \n",
    "# rush to the goal. If you examine the data from multiple graphs, the players\n",
    "# that took the longest scored the highest and gathered the most amount of coins, \n",
    "# Those that completed the level quickly gathered no coins or very little and generally scored nothing or low to moderate scores.\n",
    "# Secondly that player's are getting game over quickly and data is still being sent for\n",
    "# time taken (completion time).\n",
    "\n",
    "# As the creator of the game i am aware that the most likely scenario is that the level is\n",
    "# too short and that a score is not being generated when they reach the goalthe way it should be. \n",
    "# But i think to have clear analysis we need to introduce more \n",
    "# metrics for data collection that i will discuss below as part of my overall conclusion.\n",
    "# This would help as the scope of our game grows."
   ]
  },
  {
   "cell_type": "code",
   "execution_count": null,
   "metadata": {},
   "outputs": [],
   "source": [
    "for v in time_taken:\n",
    "    print(v, end=' ') # prints the time_taken data horizontally"
   ]
  },
  {
   "cell_type": "code",
   "execution_count": null,
   "metadata": {},
   "outputs": [],
   "source": [
    "for v in time_taken:\n",
    "    print(v) # above was too messy for these stats so printed the list"
   ]
  },
  {
   "cell_type": "code",
   "execution_count": null,
   "metadata": {},
   "outputs": [],
   "source": [
    "time_taken # this works too"
   ]
  },
  {
   "cell_type": "code",
   "execution_count": null,
   "metadata": {},
   "outputs": [],
   "source": [
    "time_taken.plot();  # plots a line graph based on data from the \n",
    "                    # time_take dataframe"
   ]
  },
  {
   "cell_type": "code",
   "execution_count": null,
   "metadata": {},
   "outputs": [],
   "source": [
    "# ----------------------------------------------------------------"
   ]
  },
  {
   "cell_type": "code",
   "execution_count": null,
   "metadata": {},
   "outputs": [],
   "source": [
    "# Conclusion: \n",
    "\n",
    "# From analysing the data logged in our data tables and depicted in our graphs,\n",
    "# I have concluded that we need to explore certain scenarios regarding our project.\n",
    "\n",
    "#  - We need to check to see if player's are receiving a score when they reach the goal pole\n",
    "#  - We need to examine whether or not time_taken is still being sent to the server even if the player loses.\n",
    "#      - If that is the case we need to split it into two different metrics i.e time_taken_success, time_taken_failure\n",
    "#  - We need to establish whether or not players have incentive to collect coins and to make their existence more obvious.\n",
    "#    (maybe have some coins in the overworld and not just in boxes).\n",
    "#  - We need to increase the length of our level.\n",
    "#  - We need to track other metrics like :\n",
    "#      - Enemies_killed or score_from_enemies. If we split the score data up into different metrics we will be able to \n",
    "#        establish what elements of the game the users are interacting with most, are they getting a lot of points from \n",
    "#        killing enemies, breaking boxes or collecting coins. This couldn't be done by simply tracking enemy deaths as not all\n",
    "#        enemies can be killed on level one just temporarily imobilised which still generates a score, hence the score metric\n",
    "#        being divided would allow more accurate analysis.\n",
    "#      - Player_deaths / game_overs (could be numerical or true/ false). We should be tracking the \n",
    "#        amount of times our player dies. This will help us establish the difficulty of our level and \n",
    "#        to clear up any vagueness there is regarding whether or not time is still being sent even when the\n",
    "#        player gets game over.\n",
    "#  - Finally we have established that there is a strong correalation between those that scored highly and those \n",
    "#    that collected high amounts of coins. To further clarify that we need to track scores from other game elements as \n",
    "#    detailed above. These players also spent the most time playing the level by a significant margin.\n",
    "#    And that there was a strong correalation between players that scored lowly and those that collected no coins. These\n",
    "#    players also played the level for a very short amount of time. This also needs further analysis as it could be due\n",
    "#    to level shortness, difficulty (game over) or a combination of both.\n",
    "\n",
    "#  - The data although not entirely conclusive has made us aware of other aspects in our game we should track and has\n",
    "#    potentially identified possible bugs in our game. It has also made us aware of possible player trends and how \n",
    "#    their play style directly effects their performance in game such as their score and time taken to complete a level."
   ]
  },
  {
   "cell_type": "code",
   "execution_count": null,
   "metadata": {},
   "outputs": [],
   "source": [
    "df.to_excel(\"raw_metrics.xlsx\") # stores all the raw data in an\n",
    "                                # excel file of that name. Creating\n",
    "                                # the file if it does not exist."
   ]
  },
  {
   "cell_type": "code",
   "execution_count": null,
   "metadata": {},
   "outputs": [],
   "source": [
    "coins.to_excel(\"coinData.xlsx\") # stores all the data related to \n",
    "                                # the coins dataframe in an excel \n",
    "                                # file of the specified name"
   ]
  },
  {
   "cell_type": "code",
   "execution_count": null,
   "metadata": {},
   "outputs": [],
   "source": [
    "score.to_excel(\"scoreData.xlsx\") # stores all the data related to \n",
    "                                 # the score dataframe in an excel \n",
    "                                 # file of the specified name"
   ]
  },
  {
   "cell_type": "code",
   "execution_count": null,
   "metadata": {},
   "outputs": [],
   "source": [
    "time_taken.to_excel(\"time_taken.xlsx\")  # stores all the data related to \n",
    "                                        # the time_taken dataframe in an excel \n",
    "                                        # file of the specified name"
   ]
  }
 ],
 "metadata": {
  "kernelspec": {
   "display_name": "Python 3",
   "language": "python",
   "name": "python3"
  },
  "language_info": {
   "codemirror_mode": {
    "name": "ipython",
    "version": 3
   },
   "file_extension": ".py",
   "mimetype": "text/x-python",
   "name": "python",
   "nbconvert_exporter": "python",
   "pygments_lexer": "ipython3",
   "version": "3.8.5"
  }
 },
 "nbformat": 4,
 "nbformat_minor": 4
}
